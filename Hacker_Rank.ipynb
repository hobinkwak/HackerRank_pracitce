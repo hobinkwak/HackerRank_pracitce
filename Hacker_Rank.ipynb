{
 "cells": [
  {
   "cell_type": "code",
   "execution_count": null,
   "metadata": {},
   "outputs": [],
   "source": [
    "# 2번째로 작은 점수를 받은 학생을 알파벳순으로 추력\n",
    "if __name__ == '__main__':\n",
    "    result = []\n",
    "    for _ in range(int(input())):\n",
    "        name = input()\n",
    "        score = float(input())\n",
    "        result.append([name, score])\n",
    "\n",
    "ordered = sorted(result, key=lambda group: group[1], reverse=True)\n",
    "ordered_num = [group[1] for group in ordered]\n",
    "ordered_filtered = []\n",
    "for num in ordered_num:\n",
    "    if not num in ordered_filtered:\n",
    "        ordered_filtered.append(num)\n",
    "secondmin = ordered_filtered[-2]\n",
    "name_ordered = sorted(group[0] for group in ordered if group[1] == secondmin)\n",
    "for x in name_ordered:\n",
    "    print(x)"
   ]
  },
  {
   "cell_type": "code",
   "execution_count": null,
   "metadata": {},
   "outputs": [],
   "source": [
    "# 성적내기 (조건 까다로움)\n",
    "def gradingStudents(grades):\n",
    "    result = []\n",
    "    for grade in grades:\n",
    "        if grade >= 38:\n",
    "            if grade % 5 >= 3:\n",
    "                result.append(grade + (5-(grade % 5)))\n",
    "            else:\n",
    "                result.append(grade)\n",
    "        if grade < 38:\n",
    "            result.append(grade)\n",
    "    return result"
   ]
  },
  {
   "cell_type": "code",
   "execution_count": null,
   "metadata": {},
   "outputs": [],
   "source": [
    "gradingStudents([84, 29, 57, 0, 100, 99, 91, 40, 38])"
   ]
  },
  {
   "cell_type": "code",
   "execution_count": null,
   "metadata": {},
   "outputs": [],
   "source": [
    "# 소수점 두 자리수로 평균출력\n",
    "average = sum(student_marks[query_name]) / len(student_marks[query_name])\n",
    "print('%.2f' % average)"
   ]
  },
  {
   "cell_type": "code",
   "execution_count": null,
   "metadata": {},
   "outputs": [],
   "source": [
    "# Lists. 커맨드를 직접 받는 식\n",
    "if __name__ == '__main__':\n",
    "    N = int(input())\n",
    "command_list = [input() for _ in range(N)]\n",
    "result = []\n",
    "for command in command_list:\n",
    "    pos, value = command.split(\n",
    "        ' ')[1:3] if command.startswith('insert') else (0, 0)\n",
    "    value = command.split(' ')[1] if len(command.split(' ')) == 2 else value\n",
    "    pos, value = int(pos), int(value)\n",
    "\n",
    "    if command == 'print':\n",
    "        print(result)\n",
    "    if command.startswith('insert'):\n",
    "        result.insert(pos, value)\n",
    "    if command.startswith('remove'):\n",
    "        result.remove(value)\n",
    "    if command.startswith('append'):\n",
    "        result.append(value)\n",
    "    if command.startswith('sort'):\n",
    "        result.sort()\n",
    "    if command.startswith('pop'):\n",
    "        result.pop()\n",
    "    if command.startswith('reverse'):\n",
    "        result.reverse()"
   ]
  },
  {
   "cell_type": "code",
   "execution_count": null,
   "metadata": {
    "scrolled": true
   },
   "outputs": [],
   "source": [
    "# 사과/오렌지 내 집에 몇 개 떨어지니\n",
    "\n",
    "import math\n",
    "import os\n",
    "import random\n",
    "import re\n",
    "import sys\n",
    "\n",
    "# Complete the countApplesAndOranges function below.\n",
    "\n",
    "\n",
    "def countApplesAndOranges(s, t, a, b, apples, oranges):\n",
    "    drop_apples = [a+apple for apple in apples]\n",
    "    drop_oranges = [b + orange for orange in oranges]\n",
    "    apples_in_my_house = [\n",
    "        apple for apple in drop_apples if apple >= s and apple <= t]\n",
    "    oranges_in_my_house = [\n",
    "        orange for orange in drop_oranges if orange >= s and orange <= t]\n",
    "    print(len(apples_in_my_house), len(oranges_in_my_house), sep='\\n')\n",
    "\n",
    "\n",
    "if __name__ == '__main__':\n",
    "    st = input().split()\n",
    "\n",
    "    s = int(st[0])\n",
    "\n",
    "    t = int(st[1])\n",
    "\n",
    "    ab = input().split()\n",
    "\n",
    "    a = int(ab[0])\n",
    "\n",
    "    b = int(ab[1])\n",
    "\n",
    "    mn = input().split()\n",
    "\n",
    "    m = int(mn[0])\n",
    "\n",
    "    n = int(mn[1])\n",
    "\n",
    "    apples = list(map(int, input().rstrip().split()))\n",
    "\n",
    "    oranges = list(map(int, input().rstrip().split()))\n",
    "\n",
    "    countApplesAndOranges(s, t, a, b, apples, oranges)"
   ]
  },
  {
   "cell_type": "code",
   "execution_count": null,
   "metadata": {},
   "outputs": [],
   "source": [
    "# 1번 캥거루가 2번 캥거루랑 만날 수 있나요?\n",
    "\n",
    "def kangaroo(x1, v1, x2, v2):\n",
    "    if v1-v2 ==:\n",
    "        return \"NO\"\n",
    "    elif (x2-x1) % (v1-v2) == 0:\n",
    "        if (x2-x1) / (v1-v2) != 0:\n",
    "            return \"YES\"\n",
    "        else:\n",
    "            return \"NO\"\n",
    "    else:\n",
    "        return \"NO\""
   ]
  },
  {
   "cell_type": "code",
   "execution_count": null,
   "metadata": {},
   "outputs": [],
   "source": [
    "# array a의 공배수이면서, array b의 공약수인 숫자의 갯수\n",
    "def getTotalX(a, b):\n",
    "    nomi_num = list(range(1, b[0]+1))\n",
    "    mid_num = []\n",
    "    final_num = []\n",
    "    for num in nomi_num:\n",
    "        if not sum([num % a_i for a_i in a]):\n",
    "            mid_num.append(num)\n",
    "    for m_num in mid_num:\n",
    "        if not sum([b_i % m_num for b_i in b]):\n",
    "            final_num.append(m_num)\n",
    "    print(len(final_num))"
   ]
  },
  {
   "cell_type": "code",
   "execution_count": null,
   "metadata": {},
   "outputs": [],
   "source": [
    "# 대소문자 스왑\n",
    "def swap_case(s):\n",
    "    return ''.join([letter.upper() if letter.islower() else letter.lower() for letter in list(s)])"
   ]
  },
  {
   "cell_type": "code",
   "execution_count": null,
   "metadata": {},
   "outputs": [],
   "source": [
    "# lily는 ron에게 s 중 m개를 연속으로 골라, 합이 d가 되는 케이크를 주고 싶어한다.\n",
    "def birthday(s, d, m):\n",
    "    return len([s[n:n+m] for n in range(0, len(s)-m+1) if sum(s[n:n+m]) == d])\n",
    "\n",
    "\n",
    "birthday([1, 2, 1, 3, 2], 3, 2)"
   ]
  },
  {
   "cell_type": "code",
   "execution_count": null,
   "metadata": {},
   "outputs": [],
   "source": [
    "# what's your name?\n",
    "def print_full_name(a, b):\n",
    "    print(\"Hello {} {}! You just delved into python.\".format(a, b))"
   ]
  },
  {
   "cell_type": "code",
   "execution_count": null,
   "metadata": {},
   "outputs": [],
   "source": [
    "# 수정 가능한 string\n",
    "def mutate_string(string, position, character):\n",
    "    return string[:position] + character + string[position+1:]"
   ]
  },
  {
   "cell_type": "code",
   "execution_count": null,
   "metadata": {},
   "outputs": [],
   "source": [
    "# arr[i] + arr[j] 가 k로 나눠지는, i,j쌍은 몇개일까.\n",
    "def divisibleSumPairs(n, k, ar):\n",
    "    result = 0\n",
    "    for i in range(0, n-1):\n",
    "        for j in range(i+1, n):\n",
    "            if not (ar[i]+ar[j]) % k:\n",
    "                result += 1\n",
    "    return result"
   ]
  },
  {
   "cell_type": "code",
   "execution_count": null,
   "metadata": {},
   "outputs": [],
   "source": [
    "def count_substring(string, sub_string):\n",
    "    return len([string[i:i+len(sub_string)] for i in range(len(string)-len(sub_string)+1) if string[i:i+len(sub_string)] == sub_string])"
   ]
  },
  {
   "cell_type": "code",
   "execution_count": null,
   "metadata": {},
   "outputs": [],
   "source": [
    "# 숫자 배열 중 빈도수가 가장 높은, 가장 작은 수\n",
    "def migratoryBirds(arr):\n",
    "    result = []\n",
    "    for num in set(arr):\n",
    "        result.append((num, arr.count(num)))\n",
    "    result = sorted(result, key=lambda tup: tup[1], reverse=True)\n",
    "    result = sorted([tup for tup in result if tup[1] ==\n",
    "                     result[0][1]], key=lambda tup: tup[0])\n",
    "    return result[0][0]"
   ]
  },
  {
   "cell_type": "code",
   "execution_count": null,
   "metadata": {},
   "outputs": [],
   "source": [
    "if __name__ == '__main__':\n",
    "    s = input()\n",
    "\n",
    "result = [0, 0, 0, 0, 0]\n",
    "for x in set(s):\n",
    "    if x.isalnum():\n",
    "        result[0] += 1\n",
    "    if x.isalpha():\n",
    "        result[1] += 1\n",
    "    if x.isdigit():\n",
    "        result[2] += 1\n",
    "    if x.islower():\n",
    "        result[3] += 1\n",
    "    if x.isupper():\n",
    "        result[4] += 1\n",
    "    if sum(list(map(bool, result))) == 5:\n",
    "        break\n",
    "print(bool(result[0]), bool(result[1]), bool(result[2]),\n",
    "      bool(result[3]), bool(result[4]), sep='\\n')"
   ]
  },
  {
   "cell_type": "code",
   "execution_count": null,
   "metadata": {},
   "outputs": [],
   "source": [
    "# 256번째 날이 프로그래머 day라고 한다.\n",
    "def dayOfProgrammer(year):\n",
    "    if year >= 1919:\n",
    "        if ((year % 4 == 0) & (year % 100 > 0)) or (year % 400 == 0):\n",
    "            return '.'.join(['12', '09', str(year)])\n",
    "        else:\n",
    "            return '.'.join(['13', '09', str(year)])\n",
    "    elif year == 1918:\n",
    "        return '.'.join(['26', '09', str(year)])\n",
    "    else:\n",
    "        if not year % 4:\n",
    "            return '.'.join(['12', '09', str(year)])\n",
    "        else:\n",
    "            return '.'.join(['13', '09', str(year)])"
   ]
  },
  {
   "cell_type": "code",
   "execution_count": null,
   "metadata": {
    "scrolled": false
   },
   "outputs": [],
   "source": [
    "thickness = int(input())  # This must be an odd number\n",
    "c = 'H'\n",
    "\n",
    "# Top Cone\n",
    "for i in range(thickness):\n",
    "    print((c*i).rjust(thickness-1)+c+(c*i).ljust(thickness-1))\n",
    "\n",
    "# Top Pillars\n",
    "for i in range(thickness+1):\n",
    "    print((c*thickness).center(thickness*2)+(c*thickness).center(thickness*6))\n",
    "\n",
    "# Middle Belt\n",
    "for i in range((thickness+1)//2):\n",
    "    print((c*thickness*5).center(thickness*6))\n",
    "\n",
    "# Bottom Pillars\n",
    "for i in range(thickness+1):\n",
    "    print((c*thickness).center(thickness*2)+(c*thickness).center(thickness*6))\n",
    "\n",
    "# Bottom Cone\n",
    "for i in range(thickness):\n",
    "    print(((c*(thickness-i-1)).rjust(thickness)+c +\n",
    "           (c*(thickness-i-1)).ljust(thickness)).rjust(thickness*6))"
   ]
  },
  {
   "cell_type": "code",
   "execution_count": null,
   "metadata": {},
   "outputs": [],
   "source": [
    "# Complete the bonAppetit function below.\n",
    "def bonAppetit(bill, k, b):\n",
    "    anna = (sum(bill) - bill[k]) / 2\n",
    "    if b > anna:\n",
    "        return int(b - anna)\n",
    "    elif b == anna:\n",
    "        return 'Bon Appetit'"
   ]
  },
  {
   "cell_type": "code",
   "execution_count": null,
   "metadata": {},
   "outputs": [],
   "source": [
    "def sockMerchant(n, ar):\n",
    "    set_ar = set(ar)\n",
    "    result = []\n",
    "    for i in set_ar:\n",
    "        if ar.count(i) >= 2:\n",
    "            result.append((i, ar.count(i)))\n",
    "    return sum(tup[1] // 2 for tup in result)"
   ]
  },
  {
   "cell_type": "code",
   "execution_count": null,
   "metadata": {},
   "outputs": [],
   "source": [
    "# text wrap\n",
    "def wrap(string, max_width):\n",
    "    result = [string[i*max_width:(i+1)*max_width]\n",
    "              for i in range((len(string) // max_width))]\n",
    "    result.append(string[(len(string)//max_width)*max_width:])\n",
    "    return '\\n'.join(result)"
   ]
  },
  {
   "cell_type": "code",
   "execution_count": null,
   "metadata": {},
   "outputs": [],
   "source": [
    "N, M = tuple(map(int, input().split()))\n",
    "loop = '.|.'\n",
    "for i in range(1, int(((N-1)/2)+1)):\n",
    "    new_loop = loop * (2*i - 1)\n",
    "    print(new_loop.center(M, '-'))\n",
    "print('WELCOME'.center(M, '-'))\n",
    "for i in sorted(list(range(1, int(((N-1)/2)+1))), reverse=True):\n",
    "    new_loop = loop * (2*i - 1)\n",
    "    print(new_loop.center(M, '-'))"
   ]
  },
  {
   "cell_type": "code",
   "execution_count": null,
   "metadata": {},
   "outputs": [],
   "source": [
    "# 십진, 8진, 16진(알파벳), 이진법\n",
    "def print_formatted(number):\n",
    "    def octal(number):\n",
    "        if num < 64:\n",
    "            return str(((num // 8) * 10) + num % 8)\n",
    "        else:\n",
    "            return str(1) + str(num//8 - 8) + str(num % 8)\n",
    "\n",
    "    def hexadecimal(number):\n",
    "        ls = [0, 1, 2, 3, 4, 5, 6, 7, 8, 9, 'A', 'B', 'C', \"D\", 'E', 'F']\n",
    "        return str((number // 16) * 10)[0] + str(ls[(number % 16)]) if number >= 16 else str(ls[(number % 16)])\n",
    "\n",
    "    def binary(number):\n",
    "        mid_num = number\n",
    "        result = ''\n",
    "        for num in sorted([2**i for i in range(7) if 2**i <= number], reverse=True):\n",
    "            if mid_num - num >= 0:\n",
    "                result += '1'\n",
    "                mid_num = mid_num - num\n",
    "            else:\n",
    "                result += '0'\n",
    "        return result\n",
    "    final = []\n",
    "    for num in range(1, number+1):\n",
    "        num1 = str(num).rjust(len(binary(number)))\n",
    "        num2 = octal(num).rjust(len(binary(number)))\n",
    "        num3 = hexadecimal(num).rjust(len(binary(number)))\n",
    "        num4 = binary(num).rjust(len(binary(number)))\n",
    "        nums = ' '.join([num1, num2, num3, num4])\n",
    "        final.append(nums)\n",
    "    print('\\n'.join(final))"
   ]
  },
  {
   "cell_type": "code",
   "execution_count": null,
   "metadata": {},
   "outputs": [],
   "source": [
    "def pageCount(n, p):\n",
    "    turn_forwards = p/2 if p % 2 == 0 else (p-1)/2\n",
    "    if n % 2 == 1:\n",
    "        turn_backwards = ((n-1)-p)/2 if p % 2 == 0 else (n-p)/2\n",
    "    else:\n",
    "        turn_backwards = (n-p)/2 if p % 2 == 0 else ((n+1)-p)/2\n",
    "    return int(min(turn_forwards, turn_backwards))"
   ]
  },
  {
   "cell_type": "code",
   "execution_count": null,
   "metadata": {},
   "outputs": [],
   "source": [
    "def print_rangoli(size):\n",
    "    alphabet = 'abcdefghijklmnopqrstuvwxyz'\n",
    "    resources = sorted(list(alphabet[:size]), reverse=True)\n",
    "    front_lines = []\n",
    "    for i in range(size):\n",
    "        front = resources[:i+1]\n",
    "        back = front[::-1][1:]\n",
    "        total = front + back\n",
    "        front_lines.append(\n",
    "            '-'.join(front+back).center(size+size-1+2*(size-1), '-'))\n",
    "    back_lines = front_lines[::-1][1:]\n",
    "    print('\\n'.join(front_lines + back_lines))"
   ]
  },
  {
   "cell_type": "code",
   "execution_count": null,
   "metadata": {},
   "outputs": [],
   "source": [
    "def countingValleys(steps, path):\n",
    "    nums = [1 if ud == 'U' else -1 for ud in path]\n",
    "    cum_sum = [sum(nums[:i]) for i in range(0, steps+1)]\n",
    "    return sum(1 for index in range(steps) if cum_sum[index:index+2] == [0, -1])"
   ]
  },
  {
   "cell_type": "code",
   "execution_count": null,
   "metadata": {},
   "outputs": [],
   "source": [
    "# 유튜브 솔루션\n",
    "def countingValleys(steps, path):\n",
    "    prev_height = 0\n",
    "    height = 0\n",
    "    cnt = 0\n",
    "    for i in range(steps):\n",
    "        if path[i] == 'U':\n",
    "            height += 1\n",
    "        elif path[i] == 'D':\n",
    "            height -= 1\n",
    "        if height == 0 and prev_height < 0:\n",
    "            cnt += 1\n",
    "        prev_height = height\n",
    "    return cnt"
   ]
  },
  {
   "cell_type": "code",
   "execution_count": null,
   "metadata": {},
   "outputs": [],
   "source": [
    "def solve(s):\n",
    "    result = []\n",
    "    for word in s.split(' '):\n",
    "        if word.isalpha():\n",
    "            result.append(word.title())\n",
    "        else:\n",
    "            result.append(word)\n",
    "    return ' '.join(result)"
   ]
  },
  {
   "cell_type": "code",
   "execution_count": null,
   "metadata": {},
   "outputs": [],
   "source": [
    "def getMoneySpent(keyboards, drives, b):\n",
    "    result = []\n",
    "    for keyboard in keyboards:\n",
    "        for drive in drives:\n",
    "            if keyboard + drive <= b:\n",
    "                result.append(keyboard+drive)\n",
    "    if len(result) < 1:\n",
    "        return -1\n",
    "    return max(result)"
   ]
  },
  {
   "cell_type": "code",
   "execution_count": null,
   "metadata": {},
   "outputs": [],
   "source": [
    "# Medium\n",
    "def minion_game(string):\n",
    "    vowels = ['A', 'E', 'O', 'I', 'U']\n",
    "    stuart = []\n",
    "    kevin = []\n",
    "    for step in range(1, len(string) + 1):\n",
    "        ps = [list(range(step))]\n",
    "        pk = [list(range(step))]\n",
    "        for i in range(len(string)):\n",
    "            if string[i:i+step][0] in vowels:\n",
    "                if i == 0:\n",
    "                    pk.append(string[i:i+step])\n",
    "                else:\n",
    "                    if len(string[i:i+step]) == len(pk[0]):\n",
    "                        pk.append(string[i:i+step])\n",
    "            else:\n",
    "                if i == 0:\n",
    "                    ps.append(string[i:i+step])\n",
    "                else:\n",
    "                    if len(string[i:i+step]) == len(ps[0]):\n",
    "                        ps.append(string[i:i+step])\n",
    "\n",
    "        stuart.extend(ps[1:])\n",
    "        kevin.extend(pk[1:])\n",
    "    if len(stuart) > len(kevin):\n",
    "        print('Stuart {}'.format(len(stuart)))\n",
    "    elif len(kevin) > len(stuart):\n",
    "        print('Kevin {}'.format(len(kevin)))\n",
    "    else:\n",
    "        print('Draw')"
   ]
  },
  {
   "cell_type": "code",
   "execution_count": null,
   "metadata": {},
   "outputs": [],
   "source": [
    "st = 'NANANNANANNANANNANANNANANNANANNANANNANANNANANNANANNANANNANANNANANNANANNANANNANANNANANNANANNANANNANANNANANNANANNANANNANANNANANNANANNANANNANANNANANNANANNANANNANANNANANNANANNANANNANANNANANNANANNANANNANANNANANNANANNANANNANANNANANNANANNANANNANANNANANNANANNANANNANANNANANNANANNANANNANANNANANNANANNANANNANANNANANNANANNANANNANANNANANNANANNANANNANANNANANNANANNANANNANANNANANNANANNANANNANANNANANNANANNANANNANANNANANNANANNANANNANANNANANNANANNANANNANANNANANNANANNANANNANANNANANNANANNANANNANANNANANNANANNANANNANANNANANNANANNANANNANANNANANNANANNANANNANANNANANNANANNANANNANANNANANNANANNANANNANANNANANNANANNANANNANANNANANNANANNANANNANANNANANNANANNANANNANANNANANNANANNANANNANANNANANNANANNANANNANANNANANNANANNANANNANANNANANNANANNANANNANANNANANNANANNANANNANANNANANNANANNANANNANANNANANNANANNANANNANANNANANNANANNANANNANANNANANNANANNANANNANANNANANNANANNANANNANANNANANNANANNANANNANANNANANNANANNANANNANANNANANNANANNANANNANANNANANNANANNANANNANANNANANNANANNANANNANANNANANNANANNANANNANANNANANNANANNANANNANANNANANNANANNANANNANANNANANNANANNANANNANANNANANNANANNANANNANANNANANNANANNANANNANANNANANNANANNANANNANANNANANNANANNANANNANANNANANNANANNANANNANANNANANNANANNANANNANANNANANNANANNANANNANANNANANNANANNANANNANANNANANNANANNANANNANANNANANNANANNANANNANANNANANNANANNANANNANANNANANNANANNANANNANANNANANNANANNANANNANANNANANNANANNANANNANANNANANNANANNANANNANANNANANNANANNANANNANANNANANNANANNANANNANANNANANNANANNANANNANANNANANNANANNANANNANANNANANNANANNANANNANANNANANNANANNANANNANANNANANNANANNANANNANANNANANNANANNANANNANANNANANNANANNANANNANANNANANNANANNANANNANANNANANNANANNANANNANANNANANNANANNANANNANANNANANNANANNANANNANANNANANNANANNANANNANANNANANNANANNANANNANANNANANNANANNANANNANANNANANNANANNANANNANANNANANNANANNANANNANANNANANNANANNANANNANANNANANNANANNANANNANANNANANNANANNANANNANANNANANNANANNANANNANANNANANNANANNANANNANANNANANNANANNANANNANANNANANNANANNANANNANANNANANNANANNANANNANANNANANNANANNANANNANANNANANNANANNANANNANANNANANNANANNANANNANANNANANNANANNANANNANANNANANNANANNANANNANANNANANNANANNANANNANANNANANNANANNANANNANANNANANNANANNANANNANANNANANNANANNANANNANANNANANNANANNANANNANANNANANNANANNANANNANANNANANNANANNANANNANANNANANNANANNANANNANANNANANNANANNANANNANANNANANNANANNANANNANANNANANNANANNANANNANANNANANNANANNANANNANANNANANNANANNANANNANANNANANNANANNANANNANANNANANNANANNANANNANANNANANNANANNANANNANANNANANNANANNANANNANANNANANNANANNANANNANANNANANNANANNANANNANANNANANNANANNANANNANANNANANNANANNANANNANANNANANNANANNANANNANANNANANNANANNANANNANANNANANNANANNANANNANANNANANNANANNANANNANANNANANNANANNANANNANANNANANNANANNANANNANANNANANNANANNANANNANANNANANNANANNANANNANANNANANNANANNANANNANANNANANNANANNANANNANANNANANNANANNANANNANANNANANNANANNANANNANANNANANNANANNANANNANANNANANNANANNANANNANANNANANNANANNANANNANANNANANNANANNANANNANANNANANNANANNANANNANANNANANNANANNANANNANANNANANNANANNANANNANANNANANNANANNANANNANANNANANNANANNANANNANANNANANNANANNANANNANANNANANNANANNANANNANANNANANNANANNANANNANANNANANNANANNANANNANANNANANNANANNANANNANANNANANNANANNANANNANANNANANNANANNANANNANANNANANNANANNANANNANANNANANNANANNANANNANANNANANNANANNANANNANANNANANNANANNANANNANANNANANNANANNANANNANANNANANNANANNANANNANANNANANNANANNANANNANANNANANNANANNANANNANANNANANNANANNANANNANANNANANNANANNANANNANANNANANNANANNANANNANANNANANNANANNANANNANANNANANNANANNANANNANANNANANNANANNANANNANANNANANNANANNANANNANANNANANNANANNANANNANANNANANNANANNANANNANANNANANNANANNANANNANANNANANNANANNANANNANANNANANNANANNANANNANANNANANNANANNANANNANANNANANNANANNANANNANANNANANNANANNANANNANANNANANNANANNANANNANANNANANNANANNANANNANANNANANNANANNANANNANANNANANNANANNANANNANANNANANNANANNANANNANANNANANNANANNANANNANANNANANNANANNANANNANANNANANNANANNANANNANANNANANNANANNANANNANANNANANNANANNANANNANANNANANNANANNANANNANANNANANNANANNANANNANANNANANNANANNANANNANANNANANNANANNANANNANANNANANNANANNANANNANANNANANNANANNANANNANANNANANNANANNANANNANANNANANNANANNANANNANANNANANNANANNANANNANANNANANNANANNANANNANANNANANNANANNANANNANANNANANNANANNANANNANANNANANNANANNANANNANANNANANNANANNANANNANANNANANNANANNANANNANANNANANNANANNANANNANANNANANNANANNANANNANANNANANNANANNANANNANANNANANNANANNANANNANANNANANNANANNANANNANANNANANNANANNANANNANANNANANNANANNANANNANANNANANNANANNANANNANANNANANNANANNANANNANANNANANNANANNANANNANANNANANNANANNANANNANANNANANNANANNANANNANANNANANNANANNANANNANANNANANNANANNANANNANANNANANNANANNANANNANANNANANNANANNANANNANANNANANNANANNANANNANANNANANNANANNANANNANANNANANNANANNANANNANANNANANNANANNANANNANANNANANNANANNANANNANANNANANNANANNANANNANANNANANNANANNANANNANANNANANNANANNANANNANANNANANNANANNANANNANANNANANNANANNANANNANANNANANNANANNANANNANANNANANNANANNANANNANANNANANNANANNANANNANANNANANNANANNANANNANANNANANNANANNANANNANANNANANNANANNANANNANANNANANNANANNANANNANANNANANNANANNANANNANANNANANNANANNANANNANANNANANNANANNANANNANANNANANNANANNANANNANANNANANNANANNANANNANANNANANNANANNANANNANANNANANNANANNANANNANANNANANNANANNANANNANANNANANNANANNANANNANANNANANNANANNANANNANANNANANNANANNANANNANANNANANNANANNANANNANANNANANNANANNANANNANANNANANNANANNANANNANANNANANNANANNANANNANANNANANNANANNANANNANANNANANNANANNANANNANANNANANNANANNANANNANANNANANNANANNANANNANANNANANNANANNANANNANANNANANNANANNANANNANANNANANNANANNANANNANANNANANNANANNANANNANAN'"
   ]
  },
  {
   "cell_type": "markdown",
   "metadata": {},
   "source": [
    "- 알고리즘이 왜 중요한지 .. 알게되었다.\n",
    "- 그냥 머릿속에서 '말하는 대로' 코딩하다보면 위의 결과가 나온다.\n",
    "- 비록 인도 프로그래머의 아이디어를 살짝 참고했지만, 조금만 더 수리적으로 생각해보니 아래의 결과가 나왔다.\n",
    "    - 알고리즘을 생각하고, 또, 수리적으로, 사칙연산으로 생각해보는 연습을 해야겠다."
   ]
  },
  {
   "cell_type": "code",
   "execution_count": null,
   "metadata": {},
   "outputs": [],
   "source": [
    "# 솔루션\n",
    "def minion_game(string):\n",
    "    vs = ['A', 'E', 'I', 'O', 'U']\n",
    "    s = len(string)\n",
    "    c, v = 0, 0\n",
    "    for i in range(s):\n",
    "        if string[i] in vs:\n",
    "            v += (s-i)\n",
    "        else:\n",
    "            c += (s-i)\n",
    "\n",
    "    if c > v:\n",
    "        print(\"Stuart {}\".format(c))\n",
    "    elif v > c:\n",
    "        print(\"Kevin {}\".format(v))\n",
    "    else:\n",
    "        print('Draw')"
   ]
  },
  {
   "cell_type": "code",
   "execution_count": null,
   "metadata": {},
   "outputs": [],
   "source": [
    "def catAndMouse(x, y, z):\n",
    "    a = abs(z-x)\n",
    "    b = abs(z-y)\n",
    "    if a > b:\n",
    "        return 'Cat B'\n",
    "    elif b > a:\n",
    "        return 'Cat A'\n",
    "    else:\n",
    "        return 'Mouse C'"
   ]
  },
  {
   "cell_type": "code",
   "execution_count": null,
   "metadata": {},
   "outputs": [],
   "source": [
    "def merge_the_tools(string, k):\n",
    "    s = len(string)\n",
    "    step = int(s/k)\n",
    "    subs = [string[i:i+k] for i in range(0, s, k)]\n",
    "    final = []\n",
    "    for sub in subs:\n",
    "        mid = ''\n",
    "        for i in range(len(sub)):\n",
    "            if sub[i] not in mid:\n",
    "                mid += sub[i]\n",
    "        final.append(mid)\n",
    "\n",
    "    print('\\n'.join(final))"
   ]
  },
  {
   "cell_type": "code",
   "execution_count": null,
   "metadata": {},
   "outputs": [],
   "source": [
    "# 원소간 절대값 차이가 1 이하인, 가장 긴 sub-array를 구하여라\n",
    "def pickingNumbers(a):\n",
    "    value_counts = [(num, a.count(num)) for num in set(a)]\n",
    "    for i in range(len(value_counts)-1):\n",
    "        if abs(value_counts[i][0] - value_counts[i+1][0]) == 1:\n",
    "            value_counts.append((i, value_counts[i][1] + value_counts[i+1][1]))\n",
    "    return max(value_counts, key=lambda tuple: tuple[1])[1]"
   ]
  },
  {
   "cell_type": "code",
   "execution_count": null,
   "metadata": {},
   "outputs": [],
   "source": [
    "# product\n",
    "def product(A, B):\n",
    "    print(' '.join([str((A[i], B[j]))\n",
    "                    for i in range(len(A)) for j in range(len(B))]))\n",
    "\n",
    "\n",
    "A = list(map(int, input().split()))\n",
    "B = list(map(int, input().split()))\n",
    "\n",
    "product(A, B)"
   ]
  },
  {
   "cell_type": "code",
   "execution_count": null,
   "metadata": {},
   "outputs": [],
   "source": [
    "def climbingLeaderboard(ranked, player):\n",
    "    s = set(ranked)\n",
    "    ls = sorted(s, reverse=True)\n",
    "    return [ls.index(num) + 1 if num in ls else sorted(s | {num}, reverse=True).index(num) + 1 for num in player]"
   ]
  },
  {
   "cell_type": "code",
   "execution_count": null,
   "metadata": {},
   "outputs": [],
   "source": [
    "# Medium\n",
    "def climbingLeaderboard(ranked, player):\n",
    "    s = set(ranked)\n",
    "    ls = sorted(s, reverse=True)\n",
    "    a = 0\n",
    "    result = []\n",
    "    for num in player:\n",
    "        if num in ls[::-1][a:]:\n",
    "            a = ls.index(num) + 1\n",
    "            result.append(a)\n",
    "        else:\n",
    "            a = sorted(ls + [num], reverse=True).index(num) + 1\n",
    "            result.append(a)\n",
    "    return result"
   ]
  },
  {
   "cell_type": "code",
   "execution_count": null,
   "metadata": {
    "scrolled": true
   },
   "outputs": [],
   "source": [
    "# 유튜브 솔루션\n",
    "def climbingLeaderboard(a, b):\n",
    "    a = sorted(set(a), reverse=True)\n",
    "    b.sort(reverse=True)\n",
    "    j = 0\n",
    "    l = len(a)\n",
    "    result = []\n",
    "    for i in range(len(b)):\n",
    "        while j < l and b[i] < a[j]:\n",
    "            j += 1\n",
    "        result.append(j+1)\n",
    "    return result[::-1]"
   ]
  },
  {
   "cell_type": "code",
   "execution_count": null,
   "metadata": {},
   "outputs": [],
   "source": [
    "n1 = int(input())\n",
    "ls = list(map(int, input().split()))\n",
    "n2 = int(input())\n",
    "order = [tuple(map(int, input().split())) for _ in range(n2)]\n",
    "\n",
    "total = 0\n",
    "for tup in order:\n",
    "    if tup[0] in ls:\n",
    "        total += tup[1]\n",
    "        ls.remove(tup[0])\n",
    "print(total)"
   ]
  },
  {
   "cell_type": "code",
   "execution_count": null,
   "metadata": {},
   "outputs": [],
   "source": [
    "def hurdleRace(k, height):\n",
    "    return max(height)-k if max(height) > k else 0"
   ]
  },
  {
   "cell_type": "code",
   "execution_count": null,
   "metadata": {},
   "outputs": [],
   "source": [
    "from itertools import permutations\n",
    "\n",
    "\n",
    "def pm(string, num):\n",
    "    ls = sorted(list(permutations(list(set(string)), num)))\n",
    "    print('\\n'.join([''.join(list(tup)) for tup in ls]))\n",
    "\n",
    "\n",
    "st, n = input().rstrip().split()\n",
    "n = int(n)\n",
    "\n",
    "pm(st, n)"
   ]
  },
  {
   "cell_type": "code",
   "execution_count": null,
   "metadata": {},
   "outputs": [],
   "source": [
    "def designerPdfViewer(h, word):\n",
    "\n",
    "    alphabet = list('abcdefghijklmnopqrstuvwxyz')\n",
    "    total = list(zip(h, alphabet))\n",
    "\n",
    "    return max(h[alphabet.index(letter)] for letter in list(word)) * len(word)"
   ]
  },
  {
   "cell_type": "code",
   "execution_count": null,
   "metadata": {},
   "outputs": [],
   "source": [
    "def utopianTree(n):\n",
    "    result = 1\n",
    "    for num in range(n):\n",
    "        if n == 0:\n",
    "            result = 1\n",
    "        elif num % 2:\n",
    "            result += 1\n",
    "        else:\n",
    "            result *= 2\n",
    "    return result"
   ]
  },
  {
   "cell_type": "code",
   "execution_count": null,
   "metadata": {},
   "outputs": [],
   "source": [
    "number = int(input())\n",
    "ls = [input() for _ in range(number)]\n",
    "\n",
    "for phone in ls:\n",
    "    if len(phone) == 10:\n",
    "        if sum(phone[i].isdigit() for i in range(10)) == 10:\n",
    "            print('YES' if phone[0] in ['7', '8', '9'] else 'NO')\n",
    "        else:\n",
    "            print(\"NO\")\n",
    "    else:\n",
    "        print(\"NO\")"
   ]
  },
  {
   "cell_type": "code",
   "execution_count": null,
   "metadata": {
    "scrolled": true
   },
   "outputs": [],
   "source": [
    "# poor coordinate\n",
    "import math\n",
    "from cmath import phase\n",
    "\n",
    "start = input()\n",
    "c = 1\n",
    "for i in range(1, len(start)-1):\n",
    "    if start[i].isdigit() == False:\n",
    "        if i > c:\n",
    "            c = i\n",
    "\n",
    "one = int(start[:c])\n",
    "two = int(start[c:-1])\n",
    "com = complex(one, two)\n",
    "\n",
    "first = math.sqrt(one**2 + two**2)\n",
    "second = phase(com)\n",
    "\n",
    "print(round(first, 3))\n",
    "print(round(second, 3))"
   ]
  },
  {
   "cell_type": "code",
   "execution_count": null,
   "metadata": {},
   "outputs": [],
   "source": [
    "def angryProfessor(k, a):\n",
    "    if sum([True for i in a if i <= 0]) >= k:\n",
    "        return 'NO'\n",
    "    else:\n",
    "        return 'YES'"
   ]
  },
  {
   "cell_type": "code",
   "execution_count": null,
   "metadata": {},
   "outputs": [],
   "source": [
    "def average(array):\n",
    "    return sum(set(array)) / len(set(array))"
   ]
  },
  {
   "cell_type": "code",
   "execution_count": null,
   "metadata": {},
   "outputs": [],
   "source": [
    "def beautifulDays(i, j, k):\n",
    "    period = list(map(str, list(range(i, j+1))))\n",
    "    reverse = [p[::-1][1:] if p[-1] == '0' else p[::-1] for p in period]\n",
    "\n",
    "    int_period = list(range(i, j+1))\n",
    "    int_reverse = list(map(int, reverse))\n",
    "\n",
    "    count = 0\n",
    "    for front, back in zip(int_period, int_reverse):\n",
    "        if (abs(front - back) % k) == 0:\n",
    "            count += 1\n",
    "    return count"
   ]
  },
  {
   "cell_type": "code",
   "execution_count": null,
   "metadata": {},
   "outputs": [],
   "source": [
    "from collections import defaultdict\n",
    "n, m = list(map(int, input().split()))\n",
    "hobin = defaultdict(list)\n",
    "for _ in range(n):\n",
    "    hobin['GroupA'].append(input())\n",
    "for _ in range(m):\n",
    "    hobin['GroupB'].append(input())\n",
    "\n",
    "result = []\n",
    "for word in hobin['GroupB']:\n",
    "    sub = []\n",
    "    for i in range(len(hobin['GroupA'])):\n",
    "        if hobin['GroupA'][i] == word:\n",
    "            sub.append(i+1)\n",
    "    if len(sub) == 0:\n",
    "        sub.append(-1)\n",
    "    result.append(sub)\n",
    "\n",
    "for bag in result:\n",
    "    print(' '.join(list(map(str, bag))))"
   ]
  },
  {
   "cell_type": "code",
   "execution_count": null,
   "metadata": {},
   "outputs": [],
   "source": [
    "# Complete the viralAdvertising function below.\n",
    "def viralAdvertising(n):\n",
    "    day = 1\n",
    "    p = 2\n",
    "    c = 2\n",
    "    while day < n:\n",
    "        p = math.floor(p * 3 / 2)\n",
    "        c += p\n",
    "        day += 1\n",
    "    return c"
   ]
  },
  {
   "cell_type": "code",
   "execution_count": null,
   "metadata": {
    "scrolled": true
   },
   "outputs": [],
   "source": [
    "import calendar\n",
    "m, d, y = list(map(int, input().split()))\n",
    "weekday = {0: 'MONDAY', 1: 'TUESDAY', 2: 'WEDNESDAY',\n",
    "           3: 'THURSDAY', 4: 'FRIDAY', 5: 'SATURDAY', 6: 'SUNDAY'}\n",
    "answer = calendar.weekday(y, m, d)\n",
    "print(weekday[answer])"
   ]
  },
  {
   "cell_type": "code",
   "execution_count": null,
   "metadata": {},
   "outputs": [],
   "source": [
    "# old (time over)\n",
    "def circularArrayRotation(a, k, queries):\n",
    "\n",
    "    i = 0\n",
    "    while i < k % len(a):\n",
    "        i += 1\n",
    "        a = [a[-1]] + a[:-1]\n",
    "    return [a[i] for i in queries]"
   ]
  },
  {
   "cell_type": "code",
   "execution_count": null,
   "metadata": {},
   "outputs": [],
   "source": [
    "# new (정답율 78%)\n",
    "def circularArrayRotation(a, k, queries):\n",
    "    k = k % len(a)\n",
    "    if k == 0:\n",
    "        return [a[i] for i in queries]\n",
    "    elif k > 0:\n",
    "        final = a[-k:] + a[:-k]\n",
    "        return [final[i] for i in queries]"
   ]
  },
  {
   "cell_type": "code",
   "execution_count": null,
   "metadata": {},
   "outputs": [],
   "source": [
    "data = []\n",
    "for _ in range(int(input())):\n",
    "    data.append(input().split())\n",
    "\n",
    "for i in range(len(data)):\n",
    "    try:\n",
    "        a, b = data[i]\n",
    "        print(int(a) // int(b))\n",
    "    except Exception as e:\n",
    "        print(\"Error Code:\", e)"
   ]
  },
  {
   "cell_type": "code",
   "execution_count": null,
   "metadata": {},
   "outputs": [],
   "source": [
    "# 정답율 70%대.\n",
    "def saveThePrisoner(n, m, s):\n",
    "    x = m % n\n",
    "    if s == 1:\n",
    "        if x == 0:\n",
    "            return n\n",
    "        else:\n",
    "            return x\n",
    "    else:\n",
    "        if n == m:\n",
    "            return s-1\n",
    "        else:\n",
    "            if x <= (n-s+1):\n",
    "                return s + x - 1\n",
    "            else:\n",
    "                return (x - (n-s+1))"
   ]
  },
  {
   "cell_type": "code",
   "execution_count": null,
   "metadata": {},
   "outputs": [],
   "source": [
    "def permutationEquation(p):\n",
    "\n",
    "    ind = range(1, len(p)+1)\n",
    "    first = [p.index(num)+1 for num in ind]\n",
    "    second = [p.index(num)+1 for num in first]\n",
    "    return second"
   ]
  },
  {
   "cell_type": "code",
   "execution_count": null,
   "metadata": {},
   "outputs": [],
   "source": [
    "num = int(input())\n",
    "ind = input().split().index('MARKS')\n",
    "result = sum(int(input().split()[ind]) for _ in range(num)) / num\n",
    "print('{:.2f}'.format(result))"
   ]
  },
  {
   "cell_type": "code",
   "execution_count": null,
   "metadata": {},
   "outputs": [],
   "source": [
    "def jumpingOnClouds(c, k):\n",
    "    return 100 + len(c[::k])*(-1) + sum(c[::k])*(-2) if len(c) % k == 0 else 100 + len((c*k)[::k])*(-1) + sum((c*k)[::k])*(-2)"
   ]
  },
  {
   "cell_type": "code",
   "execution_count": null,
   "metadata": {},
   "outputs": [],
   "source": [
    "from collections import defaultdict\n",
    "dic = defaultdict(int)\n",
    "for _ in range(int(input())):\n",
    "    dic[input()] += 1\n",
    "final = [tup[0]*tup[1]\n",
    "         for tup in list(zip([int(item.split()[-1]) for item in dic.keys()], dic.values()))]\n",
    "result = [' '.join(item.split()[:-1] + [str(n)])\n",
    "          for item, n in zip(dic.keys(), final)]\n",
    "for x in result:\n",
    "    print(x)"
   ]
  },
  {
   "cell_type": "code",
   "execution_count": null,
   "metadata": {},
   "outputs": [],
   "source": [
    "def findDigits(n):\n",
    "    part = list(str(n))\n",
    "    count = 0\n",
    "    for divisor in part:\n",
    "        try:\n",
    "            if n % int(divisor) == 0:\n",
    "                count += 1\n",
    "            else:\n",
    "                pass\n",
    "        except:\n",
    "            pass\n",
    "    return count"
   ]
  },
  {
   "cell_type": "code",
   "execution_count": null,
   "metadata": {},
   "outputs": [],
   "source": [
    "from itertools import combinations\n",
    "string, k = input().split()\n",
    "string = ''.join(sorted(list(string)))\n",
    "for i in range(1, int(k)+1):\n",
    "    for each in list(combinations(string, i)):\n",
    "        print(''.join(each))"
   ]
  },
  {
   "cell_type": "code",
   "execution_count": null,
   "metadata": {},
   "outputs": [],
   "source": [
    "(3162.6 / 7177.9) * 100"
   ]
  },
  {
   "cell_type": "code",
   "execution_count": null,
   "metadata": {},
   "outputs": [],
   "source": [
    "# medium\n",
    "def extraLongFactorials(n):\n",
    "    from functools import reduce\n",
    "\n",
    "    def multiply(a, b):\n",
    "        return a*b\n",
    "    print(reduce(multiply, list(range(1, n+1))))"
   ]
  },
  {
   "cell_type": "code",
   "execution_count": null,
   "metadata": {},
   "outputs": [],
   "source": [
    "# medium\n",
    "nm = input().split()\n",
    "\n",
    "n = int(nm[0])\n",
    "\n",
    "m = int(nm[1])\n",
    "\n",
    "arr = []\n",
    "\n",
    "for _ in range(n):\n",
    "    arr.append(list(map(int, input().rstrip().split())))\n",
    "\n",
    "k = int(input())\n",
    "\n",
    "for each in sorted(arr, key=lambda x: x[k]):\n",
    "    print(' '.join(list(map(str, each))))"
   ]
  },
  {
   "cell_type": "code",
   "execution_count": null,
   "metadata": {},
   "outputs": [],
   "source": [
    "arr = np.array(list(map(int, input().split())))\n",
    "print(arr.reshape(3, 3))"
   ]
  },
  {
   "cell_type": "code",
   "execution_count": null,
   "metadata": {},
   "outputs": [],
   "source": [
    "def libraryFine(d1, m1, y1, d2, m2, y2):\n",
    "    ls = [m1, d1, m2, d2]\n",
    "    ls = ['0'+str(x) if len(str(x)) == 1 else str(x) for x in ls]\n",
    "    if int(str(y1)+''.join(ls[:2])) <= int(str(y2)+''.join(ls[2:])):\n",
    "        return 0\n",
    "\n",
    "    if y1 > y2:\n",
    "        return 10000\n",
    "    if y1 == y2 and m1 > m2:\n",
    "        return 500*(m1-m2)\n",
    "    if y1 == y2 and m1 == m2 and d1 > d2:\n",
    "        return 15*(d1-d2)"
   ]
  },
  {
   "cell_type": "code",
   "execution_count": null,
   "metadata": {},
   "outputs": [],
   "source": [
    "def equalizeArray(arr):\n",
    "    from collections import Counter\n",
    "    count_ls = Counter(arr).items()\n",
    "    return len(arr) - sorted(list(count_ls), reverse=True, key=lambda tup: tup[1])[0][1]"
   ]
  },
  {
   "cell_type": "code",
   "execution_count": null,
   "metadata": {},
   "outputs": [],
   "source": [
    "equalizeArray([3, 3, 2, 1, 3])"
   ]
  },
  {
   "cell_type": "code",
   "execution_count": null,
   "metadata": {},
   "outputs": [],
   "source": [
    "def cube(x): return x**3\n",
    "\n",
    "\n",
    "def fibonacci(n):\n",
    "\n",
    "    ls = [0, 1]\n",
    "    if n < 3:\n",
    "        return ls[:n]\n",
    "    else:\n",
    "        for _ in range(n-2):\n",
    "            ls.append(sum(ls[-2:]))\n",
    "        return ls"
   ]
  },
  {
   "cell_type": "code",
   "execution_count": null,
   "metadata": {},
   "outputs": [],
   "source": [
    "def camelcase(s):\n",
    "    ls = list(s)\n",
    "    return len([ls.index(letter) for letter in ls if letter.isupper()]) + 1"
   ]
  },
  {
   "cell_type": "code",
   "execution_count": null,
   "metadata": {},
   "outputs": [],
   "source": [
    "n = int(input())\n",
    "n_set = set(list(map(int, input().split())))\n",
    "m = int(input())\n",
    "m_set = set(list(map(int, input().split())))\n",
    "\n",
    "for num in sorted((n_set - m_set).union(m_set-n_set)):\n",
    "    print(num)"
   ]
  },
  {
   "cell_type": "code",
   "execution_count": null,
   "metadata": {},
   "outputs": [],
   "source": [
    "import numpy as np\n",
    "\n",
    "n = int(input())\n",
    "mat = np.array([list(map(float, input().split())) for _ in range(n)])\n",
    "print(round(np.linalg.det(mat), 2))"
   ]
  },
  {
   "cell_type": "code",
   "execution_count": null,
   "metadata": {},
   "outputs": [],
   "source": [
    "def cutTheSticks(arr):\n",
    "    result = []\n",
    "    while True:\n",
    "        # min 값 찾기\n",
    "        result.append(len(arr))\n",
    "        min_value = min(arr)\n",
    "    # min 값은 remove하기\n",
    "        while min_value in arr:\n",
    "            arr.remove(min_value)\n",
    "    # min만큼 남은 애들 차감하기\n",
    "        arr = [x-min_value for x in arr]\n",
    "        if len(arr) == 0:\n",
    "            break\n",
    "    return result"
   ]
  },
  {
   "cell_type": "code",
   "execution_count": null,
   "metadata": {
    "scrolled": true
   },
   "outputs": [],
   "source": [
    "# Medium\n",
    "for i in range(1, int(input())+1):\n",
    "    # More than 2 lines will result in 0 score. Do not leave a blank line also\n",
    "\n",
    "    print(''.join(list(map(str, range(1, 1+i))) +\n",
    "                  list(map(str, range(1, 1+i)))[-2::-1]))"
   ]
  },
  {
   "cell_type": "code",
   "execution_count": null,
   "metadata": {
    "scrolled": false
   },
   "outputs": [],
   "source": [
    "# medium\n",
    "# solution 봄\n",
    "for i in range(1, int(input())+1):\n",
    "    print(((10**i - 1)//9)**2)"
   ]
  },
  {
   "cell_type": "code",
   "execution_count": null,
   "metadata": {},
   "outputs": [],
   "source": [
    "def minimumDistances(a):\n",
    "    result = []\n",
    "    for x in set(a):\n",
    "        if a.count(x) == 2:\n",
    "            num1, num2 = [tup[0] for tup in enumerate(a) if tup[1] == x]\n",
    "            result.append(abs(num1-num2))\n",
    "    if len(result) == 0:\n",
    "        return -1\n",
    "    else:\n",
    "        return min(result)"
   ]
  },
  {
   "cell_type": "code",
   "execution_count": null,
   "metadata": {},
   "outputs": [],
   "source": [
    "total = set()\n",
    "for _ in range(int(input())):\n",
    "    total.add(input())\n",
    "print(len(total))"
   ]
  },
  {
   "cell_type": "code",
   "execution_count": null,
   "metadata": {},
   "outputs": [],
   "source": [
    "def jumpingOnClouds(c):\n",
    "    ls = ''.join(list(map(str, c))).split('1')\n",
    "    return sum([(((len(s)-1)) // 2) + ((len(s)-1) % 2) for s in ls if len(s) >= 2]) + len(ls)-1"
   ]
  },
  {
   "cell_type": "code",
   "execution_count": null,
   "metadata": {},
   "outputs": [],
   "source": [
    "def repeatedString(s, n):\n",
    "    r = n // len(s)\n",
    "    e = n % len(s)\n",
    "    st = s*n // len(s) + s[:e]\n",
    "    return st.count('a')"
   ]
  },
  {
   "cell_type": "code",
   "execution_count": null,
   "metadata": {},
   "outputs": [],
   "source": [
    "# 정답율 80퍼대\n",
    "def repeatedString(s, n):\n",
    "    total = s.count('a') * (n // len(s))\n",
    "    mod = s[:(n % len(s))].count('a')\n",
    "    return total + mod"
   ]
  },
  {
   "cell_type": "code",
   "execution_count": null,
   "metadata": {
    "scrolled": true
   },
   "outputs": [],
   "source": [
    "a = int(input())\n",
    "b = int(input())\n",
    "print(a // b)\n",
    "print(a % b)\n",
    "print(divmod(a, b))"
   ]
  },
  {
   "cell_type": "code",
   "execution_count": null,
   "metadata": {},
   "outputs": [],
   "source": [
    "def insertionSort2(n, arr):\n",
    "    result = arr[0:1]\n",
    "    try:\n",
    "        for i in range(1, len(arr)):\n",
    "            result.append(arr[i])\n",
    "            new_result = sorted(result) + arr[i+1:]\n",
    "            for x in new_result:\n",
    "                print(x, end=' ')\n",
    "            print()\n",
    "\n",
    "    except:\n",
    "        print(arr[0])"
   ]
  },
  {
   "cell_type": "code",
   "execution_count": null,
   "metadata": {
    "scrolled": true
   },
   "outputs": [],
   "source": [
    "for _ in range(int(input())):\n",
    "    a = int(input())\n",
    "    seta = set(input().split())\n",
    "    b = int(input())\n",
    "    setb = set(input().split())\n",
    "    print(seta.issubset(setb))"
   ]
  },
  {
   "cell_type": "code",
   "execution_count": null,
   "metadata": {},
   "outputs": [],
   "source": [
    "width = [2, 3, 1, 2, 3, 2, 3, 3]\n",
    "case = [[0, 3], [4, 6], [6, 7], [3, 5], [0, 7]]\n",
    "\n",
    "\n",
    "def serviceLane(n, cases):\n",
    "    return [min(width[tup[0]:tup[1]+1]) for tup in cases]"
   ]
  },
  {
   "cell_type": "code",
   "execution_count": null,
   "metadata": {},
   "outputs": [],
   "source": [
    "n = int(input())\n",
    "ls1 = input().split()\n",
    "m = int(input())\n",
    "ls2 = input().split()\n",
    "print(len(set(ls1).union(ls2)))"
   ]
  },
  {
   "cell_type": "code",
   "execution_count": null,
   "metadata": {},
   "outputs": [],
   "source": [
    "# Medium 1차 시도\n",
    "ls = []\n",
    "for _ in range(int(input())):\n",
    "    ls.append(input())\n",
    "\n",
    "print(len(set(ls)))\n",
    "w_fin = []\n",
    "for w in ls:\n",
    "    if w not in w_fin:\n",
    "        w_fin.append(w)\n",
    "        print(ls.count(w), end=' ')"
   ]
  },
  {
   "cell_type": "code",
   "execution_count": null,
   "metadata": {},
   "outputs": [],
   "source": [
    "# Medium 2차 시도\n",
    "ls = []\n",
    "for i in range(int(input())):\n",
    "    ls.append((i, input()))\n",
    "\n",
    "m = set(ls)\n",
    "print(len(m))\n",
    "for w in sorted(m, key=lambda x: ls.index(x)):\n",
    "    print(ls.count(w), end=' ')"
   ]
  },
  {
   "cell_type": "code",
   "execution_count": null,
   "metadata": {},
   "outputs": [],
   "source": [
    "# Medium 3차 시도\n",
    "from collections import defaultdict\n",
    "ls = defaultdict(int)\n",
    "for _ in range(int(input())):\n",
    "    ls[input()] += 1\n",
    "print(len(ls))\n",
    "for x in ls.values():\n",
    "    print(x, end=' ')"
   ]
  },
  {
   "cell_type": "code",
   "execution_count": null,
   "metadata": {},
   "outputs": [],
   "source": [
    "# 정답률 80%대\n",
    "def closestNumbers(arr):\n",
    "    s = sorted(arr)\n",
    "    i = 0\n",
    "    result = []\n",
    "    while True:\n",
    "        result.append(s[i+1] - s[i])\n",
    "        i += 1\n",
    "        if i == len(arr)-1:\n",
    "            break\n",
    "    m = min(result)\n",
    "    a = [tup[0] for tup in enumerate(result) if tup[1] == m]\n",
    "    final = []\n",
    "    for i in a:\n",
    "        final.append(s[i])\n",
    "        final.append(s[i+1])\n",
    "    return final"
   ]
  },
  {
   "cell_type": "code",
   "execution_count": null,
   "metadata": {},
   "outputs": [],
   "source": [
    "# 80%대\n",
    "def beautifulTriplets(d, arr):\n",
    "    count = 0\n",
    "    for i in range(len(arr)-2):\n",
    "        a = arr[i]\n",
    "        temp = {a, a+d, a+2*d}\n",
    "        if temp.issubset(set(arr[i:])):\n",
    "            count += 1\n",
    "    return count"
   ]
  },
  {
   "cell_type": "code",
   "execution_count": null,
   "metadata": {},
   "outputs": [],
   "source": [
    "# Medium\n",
    "from collections import Counter\n",
    "for tup in Counter(sorted(s)).most_common(3):\n",
    "    print(tup[0], tup[1], end='\\n')"
   ]
  },
  {
   "cell_type": "code",
   "execution_count": null,
   "metadata": {},
   "outputs": [],
   "source": [
    "# Medium\n",
    "def trimmer(arr):\n",
    "    i = 0\n",
    "    value = arr[0]\n",
    "    ls = []\n",
    "    while True:\n",
    "\n",
    "        if len(set(arr)) == 1:\n",
    "            ls.append(arr[0])\n",
    "            break\n",
    "\n",
    "        elif value == arr[i+1]:\n",
    "            i += 1\n",
    "\n",
    "        else:\n",
    "            new_value = arr[i+1]\n",
    "            arr[arr.index(value): arr.index(new_value)] = [value]\n",
    "            ls.extend(arr[:arr.index(new_value)])\n",
    "            value = new_value\n",
    "            del(arr[0])\n",
    "            i = 0\n",
    "\n",
    "        if len(arr) == 0:\n",
    "            break\n",
    "\n",
    "    return ls\n",
    "\n",
    "\n",
    "for _ in range(int(input())):\n",
    "    n = int(input())\n",
    "    arr = trimmer(list(map(int, input().split())))\n",
    "    if len(set(arr)) in [1, 2]:\n",
    "        print(\"Yes\")\n",
    "\n",
    "    else:\n",
    "        while len(arr) > 0:\n",
    "            max_value = max(arr)\n",
    "            ls = [arr[0], arr[-1]]\n",
    "            if max_value not in ls:\n",
    "                print(\"No\")\n",
    "                break\n",
    "            elif max_value in ls:\n",
    "                del(arr[arr.index(max_value)])\n",
    "            if len(arr) == 0:\n",
    "                print(\"Yes\")"
   ]
  },
  {
   "cell_type": "code",
   "execution_count": null,
   "metadata": {},
   "outputs": [],
   "source": [
    "# Medium\n",
    "for _ in range(int(input())):\n",
    "    n = int(input())\n",
    "    arr = list(map(int, input().split()))\n",
    "    if len(set(arr)) in [1, 2]:\n",
    "        print(\"Yes\")\n",
    "\n",
    "    else:\n",
    "        while len(arr) > 0:\n",
    "            max_value = max(arr)\n",
    "            ls = [arr[0], arr[-1]]\n",
    "            if max_value not in ls:\n",
    "                print(\"No\")\n",
    "                break\n",
    "            elif max_value in ls:\n",
    "                del(arr[arr.index(max_value)])\n",
    "            if len(arr) == 0:\n",
    "                print(\"Yes\")"
   ]
  },
  {
   "cell_type": "code",
   "execution_count": null,
   "metadata": {},
   "outputs": [],
   "source": [
    "# Medium ( Solution )\n",
    "for t in range(int(input())):\n",
    "    input()\n",
    "    lst = [int(i) for i in input().split()]\n",
    "    min_list = lst.index(min(lst))\n",
    "    left = lst[:min_list]\n",
    "    right = lst[min_list+1:]\n",
    "    if left == sorted(left, reverse=True) and right == sorted(right):\n",
    "        print(\"Yes\")\n",
    "    else:\n",
    "        print(\"No\")"
   ]
  },
  {
   "cell_type": "code",
   "execution_count": null,
   "metadata": {},
   "outputs": [],
   "source": [
    "# 80%대\n",
    "from itertools import combinations\n",
    "m = 5\n",
    "\n",
    "\n",
    "def acmTeam(topic):\n",
    "    tp = list(set((map(int, topic))))\n",
    "    case = [tup[0] + tup[1] for tup in combinations(tp, 2)]\n",
    "    final = list(map(lambda x: str(x) if len(str(x))\n",
    "                     == m else str(x).rjust(m, '0'), case))\n",
    "    final2 = list(map(lambda x: x.count('0'), final))\n",
    "    return [m - min(final2), final2.count(min(final2))]"
   ]
  },
  {
   "cell_type": "code",
   "execution_count": null,
   "metadata": {},
   "outputs": [],
   "source": [
    "# 80%대\n",
    "from collections import Counter\n",
    "k = int(input())\n",
    "ls = list(map(int, input().split()))\n",
    "\n",
    "c = Counter(ls)\n",
    "print(min(c.items(), key=lambda tup: tup[1])[0])"
   ]
  },
  {
   "cell_type": "code",
   "execution_count": null,
   "metadata": {},
   "outputs": [],
   "source": [
    "# 80%대\n",
    "def separateNumbers(s):\n",
    "    if s.startswith('0') or (len(s) == 1) or (len(set(s)) == 1):\n",
    "        print('NO')\n",
    "    else:\n",
    "        for i in range(int(len(s)/2)):\n",
    "            num = int(s[:i+1])\n",
    "            ls = [''.join(list(map(str, range(num, num+x)))) for x in range(2, 21)\n",
    "                  if len(''.join(list(map(str, range(num, num+x))))) == len(s)]\n",
    "\n",
    "            if str(num) == s:\n",
    "                print(\"NO\")\n",
    "                return\n",
    "\n",
    "            elif s in ls:\n",
    "                print('YES', num)\n",
    "                return\n",
    "\n",
    "        print(\"NO\")"
   ]
  },
  {
   "cell_type": "code",
   "execution_count": null,
   "metadata": {
    "ExecuteTime": {
     "end_time": "2020-12-05T23:47:06.334925Z",
     "start_time": "2020-12-05T23:46:52.922009Z"
    }
   },
   "outputs": [],
   "source": [
    "# Medium\n",
    "n, m = list(map(int, input().split()))\n",
    "arr = list(map(int, input().split()))\n",
    "setA = set(map(int, input().split()))\n",
    "setB = set(map(int, input().split()))\n",
    "\n",
    "count = 0\n",
    "for e in arr:\n",
    "    if e in setA:\n",
    "        count += 1\n",
    "    elif e in setB:\n",
    "        count -= 1\n",
    "print(count)"
   ]
  },
  {
   "cell_type": "code",
   "execution_count": null,
   "metadata": {
    "ExecuteTime": {
     "end_time": "2020-12-06T00:13:22.282472Z",
     "start_time": "2020-12-06T00:13:22.267485Z"
    }
   },
   "outputs": [],
   "source": [
    "# 80%대\n",
    "import math\n",
    "\n",
    "\n",
    "def squares(a, b):\n",
    "    aa = math.sqrt(a)\n",
    "    newa = int(aa) if aa-int(aa) == 0 else int(aa) + 1\n",
    "    bb = int(math.sqrt(b))\n",
    "\n",
    "    return len(range(newa, bb+1))"
   ]
  },
  {
   "cell_type": "code",
   "execution_count": null,
   "metadata": {
    "ExecuteTime": {
     "end_time": "2020-12-07T05:03:21.727052Z",
     "start_time": "2020-12-07T05:03:05.177280Z"
    }
   },
   "outputs": [],
   "source": [
    "# Hard\n",
    "from itertools import product\n",
    "k, m = tuple(map(int, input().split()))\n",
    "mat = []\n",
    "for _ in range(k):\n",
    "    mat.append(list(map(lambda x:int(x)**2, input().split()))[1:])\n",
    "\n",
    "print(max(map(lambda x: sum(x) % m, list(product(*mat)))))"
   ]
  },
  {
   "cell_type": "code",
   "execution_count": null,
   "metadata": {
    "ExecuteTime": {
     "end_time": "2020-12-07T05:17:01.807724Z",
     "start_time": "2020-12-07T05:17:01.788138Z"
    }
   },
   "outputs": [],
   "source": [
    "# ord('a') / chr(ord('a'))\n",
    "def funnyString(s):\n",
    "    l = list(map(ord, list(s)))\n",
    "    ls = []\n",
    "    ll = len(l)\n",
    "    r = l[::-1]\n",
    "    rl = len(r)\n",
    "    rs = []\n",
    "    for i in range(ll):\n",
    "        ls.append(abs(l[i+1] - l[i]))\n",
    "        if i == ll-2: break\n",
    "    for i in range(ll):\n",
    "        rs.append(abs(r[i+1] - r[i]))\n",
    "        if i == rl-2: break\n",
    "    return 'Funny' if ls == rs else 'Not Funny'\n"
   ]
  },
  {
   "cell_type": "code",
   "execution_count": null,
   "metadata": {
    "ExecuteTime": {
     "end_time": "2020-12-08T01:12:39.211398Z",
     "start_time": "2020-12-08T01:12:36.466689Z"
    },
    "scrolled": true
   },
   "outputs": [],
   "source": [
    "import numpy as np\n",
    "\n",
    "n, m = list(map(int, input().split()))\n",
    "mat = []\n",
    "for _ in range(n):\n",
    "    mat.append(list(map(int, input().split())))\n",
    "mat = np.array(mat)\n",
    "print(np.mean(mat, axis=1))\n",
    "print(np.var(mat, axis=0))\n",
    "print(np.round(np.std(mat), decimals=11))"
   ]
  },
  {
   "cell_type": "code",
   "execution_count": null,
   "metadata": {
    "ExecuteTime": {
     "end_time": "2020-12-08T01:33:19.939003Z",
     "start_time": "2020-12-08T01:33:19.929058Z"
    }
   },
   "outputs": [],
   "source": [
    "# 80%대\n",
    "def howManyGames(p, d, m, s):\n",
    "    ls = list(range(p, m, -d))\n",
    "    tmp = []\n",
    "    for num in ls:\n",
    "        tmp.append(num)\n",
    "        if sum(tmp) >= s:\n",
    "            return len(tmp)-1\n",
    "            \n",
    "    while True:\n",
    "        \n",
    "        t = sum(ls)\n",
    "        if t > s: \n",
    "            break\n",
    "        else:\n",
    "            ls.append(m)\n",
    "            \n",
    "    return len(ls)-1"
   ]
  },
  {
   "cell_type": "code",
   "execution_count": null,
   "metadata": {
    "ExecuteTime": {
     "end_time": "2020-12-09T10:26:10.483307Z",
     "start_time": "2020-12-09T10:26:00.447159Z"
    }
   },
   "outputs": [],
   "source": [
    "n, m = list(map(int, input().split()))\n",
    "\n",
    "A = []\n",
    "for _ in range(n):\n",
    "    A.append(np.array(list(map(int, input().split()))))\n",
    "\n",
    "B = []\n",
    "for _ in range(n):\n",
    "    B.append(np.array(list(map(int, input().split()))))\n",
    "\n",
    "A = np.array(A)\n",
    "B = np.array(B)\n",
    "    \n",
    "print(A + B, A - B, A*B, A//B, A%B, A**B, sep='\\n')"
   ]
  },
  {
   "cell_type": "code",
   "execution_count": null,
   "metadata": {
    "ExecuteTime": {
     "end_time": "2020-12-09T13:48:25.065977Z",
     "start_time": "2020-12-09T13:48:25.046576Z"
    }
   },
   "outputs": [],
   "source": [
    "# Medium\n",
    "import math\n",
    "def encryption(s):\n",
    "    l = len(s)\n",
    "    r = math.floor(math.sqrt(l))\n",
    "    c = math.ceil(math.sqrt(l))\n",
    "    d = l // c\n",
    "    if c*r < l: r += 1\n",
    "    \n",
    "    \n",
    "    ls = [list(s[i:i+c]) for i in range(0, c*d+1, c)] #c=4 d=2\n",
    "    final = []\n",
    "    for i in range(c):\n",
    "        k = ''\n",
    "        for tup in ls :\n",
    "            if len(tup) >= i+1:\n",
    "                k += tup[i]\n",
    "            else:\n",
    "                continue\n",
    "        final.append(k)\n",
    "    \n",
    "    \n",
    "    return ' '.join(final)"
   ]
  },
  {
   "cell_type": "code",
   "execution_count": null,
   "metadata": {
    "ExecuteTime": {
     "end_time": "2020-12-10T12:58:36.912645Z",
     "start_time": "2020-12-10T12:58:35.279423Z"
    }
   },
   "outputs": [],
   "source": [
    "import numpy\n",
    "numpy.set_printoptions(legacy='1.13')\n",
    "\n",
    "print(numpy.eye(*list(map(int, input().split()))))"
   ]
  },
  {
   "cell_type": "code",
   "execution_count": null,
   "metadata": {
    "ExecuteTime": {
     "end_time": "2020-12-10T13:16:53.975278Z",
     "start_time": "2020-12-10T13:16:53.962261Z"
    }
   },
   "outputs": [],
   "source": [
    "# Medium - 1차 - 메모리\n",
    "from itertools import combinations\n",
    "def maxMin(k, arr):\n",
    "    return min([max(ls)-min(ls) for ls in combinations(arr, k)])"
   ]
  },
  {
   "cell_type": "code",
   "execution_count": null,
   "metadata": {
    "ExecuteTime": {
     "end_time": "2020-12-10T13:51:25.706058Z",
     "start_time": "2020-12-10T13:51:25.694073Z"
    }
   },
   "outputs": [],
   "source": [
    "# Medium - 2차 - time limit 1문제\n",
    "def maxMin(k, arr):\n",
    "    arr = sorted(arr)\n",
    "    ls = []\n",
    "    for i in range(len(arr) - k +1):\n",
    "        tmp = arr[i:i+k]\n",
    "        ls.append(tmp[-1] - tmp[0])\n",
    "    return sorted(ls)[0]"
   ]
  },
  {
   "cell_type": "code",
   "execution_count": null,
   "metadata": {},
   "outputs": [],
   "source": [
    "# Medium - 3차\n",
    "def maxMin(k, arr):\n",
    "    arr = sorted(arr)\n",
    "    ls = []\n",
    "    for i in range(len(arr) - k +1):\n",
    "        mi, ma = tmp = [arr[i], arr[i+k-1]]\n",
    "        ls.append(ma - mi)\n",
    "    return sorted(ls)[0]"
   ]
  },
  {
   "cell_type": "code",
   "execution_count": null,
   "metadata": {
    "ExecuteTime": {
     "end_time": "2020-12-11T10:11:28.592969Z",
     "start_time": "2020-12-11T10:11:26.602521Z"
    }
   },
   "outputs": [],
   "source": [
    "import numpy as np\n",
    "\n",
    "arr = list(map(int,input().split()))\n",
    "\n",
    "print(np.zeros(arr, dtype=np.int))\n",
    "print(np.ones(arr, dtype=np.int))"
   ]
  },
  {
   "cell_type": "code",
   "execution_count": null,
   "metadata": {
    "ExecuteTime": {
     "end_time": "2020-12-11T10:46:07.559438Z",
     "start_time": "2020-12-11T10:46:07.544434Z"
    }
   },
   "outputs": [],
   "source": [
    "# 80%\n",
    "def minimumNumber(n, password):\n",
    "    count = 0\n",
    "    if re.search('\\d', password): count +=1\n",
    "    if re.search('[a-z]', password): count +=1\n",
    "    if re.search('[A-Z]', password): count +=1\n",
    "    if re.search('[!@#$%^&*()\\-\\+]', password): count +=1\n",
    "    if count == 4: \n",
    "        print(count)\n",
    "        return 6 - n if n < 6 else 0\n",
    "    elif count < 4: \n",
    "        print(count)\n",
    "        if n>=6: return 4-count\n",
    "        elif n+4-count >=6 : return 4-count\n",
    "        elif n+4-count < 6 : return 4-count + 6 - (n+4-count)"
   ]
  },
  {
   "cell_type": "code",
   "execution_count": null,
   "metadata": {},
   "outputs": [],
   "source": [
    "# Medium\n",
    "def is_vowel(letter):\n",
    "    return letter in ['a', 'e', 'i', 'o', 'u', 'y']\n",
    "\n",
    "def score_words(words):\n",
    "    score = 0\n",
    "    for word in words:\n",
    "        num_vowels = 0\n",
    "        for letter in word:\n",
    "            if is_vowel(letter):\n",
    "                num_vowels += 1\n",
    "        if num_vowels % 2 == 0:\n",
    "            score += 2\n",
    "        else:\n",
    "            score += 1\n",
    "    return score\n",
    "\n",
    "\n",
    "n = int(input())\n",
    "words = input().split()\n",
    "print(score_words(words))"
   ]
  },
  {
   "cell_type": "code",
   "execution_count": null,
   "metadata": {
    "ExecuteTime": {
     "end_time": "2020-12-12T00:48:37.862401Z",
     "start_time": "2020-12-12T00:48:37.844400Z"
    }
   },
   "outputs": [],
   "source": [
    "def kaprekarNumbers(p, q):\n",
    "    nums = range(p, q+1)\n",
    "    \n",
    "    answers = []\n",
    "    for num in nums:\n",
    "        if num in [1,2,3] : answers=[1]\n",
    "        else:\n",
    "            s = str(num ** 2)\n",
    "            l = int(s[:int(len(s)/2)])\n",
    "            r = int(s[int(len(s)/2):])\n",
    "            if l + r == num: answers.append(num)\n",
    "    print(' '.join(list(map(str, answers))) if len(answers)>=1 else 'INVALID RANGE'  ) "
   ]
  },
  {
   "cell_type": "code",
   "execution_count": null,
   "metadata": {
    "ExecuteTime": {
     "end_time": "2020-12-13T00:49:51.996784Z",
     "start_time": "2020-12-13T00:49:51.978566Z"
    }
   },
   "outputs": [],
   "source": [
    "def marsExploration(s):\n",
    "    a = 'SOS'\n",
    "    u = int(len(s) / 3)\n",
    "    b = a * u\n",
    "    \n",
    "    count = 0\n",
    "    for tup in zip(b, s):\n",
    "        if tup[0] != tup[1] : count+=1\n",
    "            \n",
    "    return count"
   ]
  },
  {
   "cell_type": "code",
   "execution_count": null,
   "metadata": {
    "ExecuteTime": {
     "end_time": "2020-12-13T01:11:21.873142Z",
     "start_time": "2020-12-13T01:11:21.851707Z"
    }
   },
   "outputs": [],
   "source": [
    "# Medium\n",
    "import re\n",
    "def fun(s):\n",
    "    try:\n",
    "        username, web = s.split('@')\n",
    "        webname, extension = web.split('.')\n",
    "    except:\n",
    "        return False\n",
    "    \n",
    "    if len(username) * len(webname) ==0: return False\n",
    "    elif re.search('[^a-z0-9_-]', username): return False\n",
    "    elif re.search('[^a-z0-9]', webname) : return False\n",
    "    elif len(extension) > 3: return False\n",
    "    else:\n",
    "        return True"
   ]
  },
  {
   "cell_type": "code",
   "execution_count": null,
   "metadata": {
    "ExecuteTime": {
     "end_time": "2020-12-14T00:16:42.414934Z",
     "start_time": "2020-12-14T00:16:26.957652Z"
    }
   },
   "outputs": [],
   "source": [
    "# Medium\n",
    "import re\n",
    "\n",
    "def valid(s):\n",
    "    ss = s.split('-')\n",
    "    if '-' in s:\n",
    "        for i in range(len(ss)):\n",
    "            if len(ss[i]) != 4 : \n",
    "                print('Invalid')\n",
    "                return\n",
    "    \n",
    "    s = ''.join(ss)\n",
    "    \n",
    "    if not re.match('^4|^5|^6', s) : \n",
    "        print('Invalid')\n",
    "        return\n",
    "    elif re.search('\\d+', s).end() != 16 : \n",
    "        print('Invalid')\n",
    "        return\n",
    "    elif re.search('\\D+', s) : \n",
    "        print('Invalid')\n",
    "        return\n",
    "    elif re.search('0{4,}|1{4,}|2{4,}|3{4,}|4{4,}|5{4,}|6{4,}|7{4,}|8{4,}|9{4,}', s) :\n",
    "        print('Invalid')\n",
    "        return\n",
    "    \n",
    "    print('Valid')\n",
    "    return\n",
    "\n",
    "\n",
    "for _ in range(int(input())):\n",
    "    s = input()\n",
    "    valid(s)"
   ]
  },
  {
   "cell_type": "code",
   "execution_count": null,
   "metadata": {
    "ExecuteTime": {
     "end_time": "2020-12-14T00:59:03.907162Z",
     "start_time": "2020-12-14T00:59:03.900153Z"
    }
   },
   "outputs": [],
   "source": [
    "def cavityMap(grid):\n",
    "    if len(grid) <= 2:\n",
    "        return grid\n",
    "    else:\n",
    "        for i in range(1, len(grid)-1):\n",
    "            for j in range(1, len(grid)-1):\n",
    "                g = grid[i][j]\n",
    "                adj = [grid[i][j-1], grid[i][j+1], grid[i-1][j], grid[i+1][j]]\n",
    "                a = max(adj)\n",
    "                if g > a:\n",
    "                    grid[i] = grid[i][:j] + 'X' + grid[i][j+1:]\n",
    "    return grid"
   ]
  },
  {
   "cell_type": "code",
   "execution_count": null,
   "metadata": {
    "ExecuteTime": {
     "end_time": "2020-12-15T01:12:27.999007Z",
     "start_time": "2020-12-15T01:12:23.879596Z"
    }
   },
   "outputs": [],
   "source": [
    "# 80%\n",
    "import re\n",
    "def spam(email):\n",
    "        _, mail = email.split(' ')\n",
    "        if '@' not in mail: return\n",
    "        elif email.count('@') >=2: return\n",
    "        else: \n",
    "            username = mail.split('@')[0][1:]\n",
    "            try:\n",
    "                domain, extension = mail.split('@')[-1][:-1].split('.')\n",
    "            except: \n",
    "                return\n",
    "        if re.search('[a-z]+', domain).group() != domain :\n",
    "            return\n",
    "        elif re.search('[a-z]+', extension).group() != extension :\n",
    "            return\n",
    "        elif len(extension) not in [1,2,3]:\n",
    "            return\n",
    "        elif re.search('[a-z]+', username).start() != 0:\n",
    "            return\n",
    "        elif re.search('[A-Za-z-._0-9]+', username).end() == len(username):\n",
    "            print(email)\n",
    "        \n",
    "for _ in range(int(input())):\n",
    "    email = input()\n",
    "    spam(email)"
   ]
  },
  {
   "cell_type": "code",
   "execution_count": null,
   "metadata": {
    "ExecuteTime": {
     "end_time": "2020-12-15T01:50:40.064580Z",
     "start_time": "2020-12-15T01:50:40.060474Z"
    }
   },
   "outputs": [],
   "source": [
    "alphabets = list(map(lambda x: x*2, list('abcdefghijklmnopqrstuvwxyz')))\n",
    "def superReducedString(s):\n",
    "    for _ in range(30):\n",
    "        for letter in alphabets:\n",
    "            s = s.replace(letter, '')\n",
    "            \n",
    "    return 'Empty String' if s=='' else s"
   ]
  },
  {
   "cell_type": "code",
   "execution_count": null,
   "metadata": {
    "ExecuteTime": {
     "end_time": "2020-12-16T12:03:40.677930Z",
     "start_time": "2020-12-16T12:03:40.669951Z"
    }
   },
   "outputs": [],
   "source": [
    "# 60%대\n",
    "def appendAndDelete(s, t, k):\n",
    "    \n",
    "    zp = list(zip(s, t))\n",
    "    ls = []\n",
    "    for tup in zp:\n",
    "        if tup[0] == tup[1]:\n",
    "            ls.append(tup)\n",
    "        else:\n",
    "            break\n",
    "\n",
    "    # 둘이 완전히 다르면.\n",
    "    if len(ls) == 0 :\n",
    "        return 'Yes' if k >= len(s) + len(t) else \"No\"\n",
    "    \n",
    "    elif s==t:\n",
    "        if (k%2 == 0) or (k >= len(s) + len(t)) :\n",
    "            return 'Yes'\n",
    "        else:\n",
    "            'No'\n",
    "    elif k >= len(s) + len(t):\n",
    "        return 'Yes'\n",
    "\n",
    "    # 둘이 '앞에서부터' 최소 하나 이상은 같음.\n",
    "    else:\n",
    "        index = len(ls)\n",
    "        length  = len(s[index:]) + len(t[index:])\n",
    "        for num in range(length, 100, 2):\n",
    "            if k == num : \n",
    "                return 'Yes'\n",
    "        return 'No'"
   ]
  },
  {
   "cell_type": "code",
   "execution_count": null,
   "metadata": {
    "ExecuteTime": {
     "end_time": "2020-12-17T09:46:03.960466Z",
     "start_time": "2020-12-17T09:46:03.942471Z"
    }
   },
   "outputs": [],
   "source": [
    "def chocolateFeast(n, c, m):\n",
    "    bars = n // c\n",
    "    wrappers = bars\n",
    "    while True:\n",
    "        \n",
    "        if wrappers >= m:\n",
    "            bars += wrappers // m\n",
    "            new_bars = wrappers // m\n",
    "            wrappers = wrappers % m\n",
    "            wrappers += new_bars\n",
    "        \n",
    "        if wrappers < m: break\n",
    "            \n",
    "    return bars"
   ]
  },
  {
   "cell_type": "code",
   "execution_count": null,
   "metadata": {
    "ExecuteTime": {
     "end_time": "2020-12-17T09:46:04.552455Z",
     "start_time": "2020-12-17T09:46:04.535358Z"
    }
   },
   "outputs": [],
   "source": [
    "chocolateFeast(15, 3, 2)"
   ]
  },
  {
   "cell_type": "code",
   "execution_count": null,
   "metadata": {
    "ExecuteTime": {
     "end_time": "2020-12-18T10:39:11.528690Z",
     "start_time": "2020-12-18T10:39:11.518664Z"
    }
   },
   "outputs": [],
   "source": [
    "def introTutorial(V, arr):\n",
    "    return arr.index(V)"
   ]
  },
  {
   "cell_type": "code",
   "execution_count": null,
   "metadata": {},
   "outputs": [],
   "source": [
    "def insertion_sort(l):\n",
    "    return sorted(l)"
   ]
  },
  {
   "cell_type": "code",
   "execution_count": null,
   "metadata": {
    "ExecuteTime": {
     "end_time": "2020-12-20T00:51:00.954739Z",
     "start_time": "2020-12-20T00:51:00.946710Z"
    }
   },
   "outputs": [],
   "source": [
    "def workbook(n, k, arr):\n",
    "    pages = 0\n",
    "    count = 0\n",
    "    for chapter in arr:\n",
    "        for problem in range(1,chapter+1):\n",
    "            if (problem % k == 1) or (k ==1):\n",
    "                pages += 1\n",
    "            if problem == pages:\n",
    "                count += 1\n",
    "    return count"
   ]
  },
  {
   "cell_type": "code",
   "execution_count": null,
   "metadata": {
    "ExecuteTime": {
     "end_time": "2020-12-21T09:44:51.272386Z",
     "start_time": "2020-12-21T09:44:51.250551Z"
    }
   },
   "outputs": [],
   "source": [
    "# medium\n",
    "def timeInWords(h, m):\n",
    "    \n",
    "    nums = ['one','two','three','four','five','six','seven','eight','nine','ten','eleven','twelve','thirteen','fourteen','fifteen','sixteen','seventeen','eighteen','nineteen','twenty', 'twenty one',' twenty two','twenty three','twenty four','twenty five','twenty six','twenty seven','twenty eight','twenty nine']\n",
    "    hour = nums[h-1]\n",
    "    \n",
    "    if m == 0: \n",
    "        medium = ' '\n",
    "        minute = \"o' clock\"\n",
    "        return hour + medium + minute\n",
    "    \n",
    "    elif m >=1 and m<=30:\n",
    "        if m == 15:\n",
    "            minute = 'quarter'\n",
    "        elif m==30:\n",
    "            minute = 'half'\n",
    "        elif m ==1:\n",
    "            minute = nums[0] + ' ' + 'minute'\n",
    "        else:\n",
    "            minute = nums[m-1] + ' minutes'\n",
    "        medium = 'past'\n",
    "        return minute + ' ' +medium + ' ' + hour\n",
    "    \n",
    "    else:\n",
    "        hour = nums[h]\n",
    "        if m == 45:\n",
    "            minute = 'quarter'\n",
    "        elif m ==59:\n",
    "            minute = nums[0] + ' ' + 'minute'\n",
    "        else:\n",
    "            minute = nums[60-m-1] + ' minutes'\n",
    "        medium = 'to'\n",
    "        return minute + ' ' +medium + ' ' + hour\n"
   ]
  },
  {
   "cell_type": "code",
   "execution_count": null,
   "metadata": {
    "ExecuteTime": {
     "end_time": "2020-12-23T13:22:07.020892Z",
     "start_time": "2020-12-23T13:22:07.007932Z"
    }
   },
   "outputs": [],
   "source": [
    "def countingSort(arr):\n",
    "    arr = sorted(arr)\n",
    "    result = []\n",
    "    for num in range(100):\n",
    "        if num in arr:\n",
    "            result.append(arr.count(num))\n",
    "            arr.remove(num)\n",
    "        else:\n",
    "            result.append(arr.count(num))\n",
    "        \n",
    "    return result"
   ]
  },
  {
   "cell_type": "code",
   "execution_count": null,
   "metadata": {
    "ExecuteTime": {
     "end_time": "2020-12-27T05:12:08.009780Z",
     "start_time": "2020-12-27T05:12:07.994849Z"
    }
   },
   "outputs": [],
   "source": [
    "# 80%대\n",
    "def findMedian(arr):\n",
    "    array = sorted(arr)\n",
    "    return array[int(len(arr)/2)]"
   ]
  },
  {
   "cell_type": "code",
   "execution_count": null,
   "metadata": {
    "ExecuteTime": {
     "end_time": "2020-12-28T01:44:23.052865Z",
     "start_time": "2020-12-28T01:44:23.037242Z"
    }
   },
   "outputs": [],
   "source": [
    "# 체감상 80%대...\n",
    "def fairRations(B):\n",
    "    odd_nums = [tup for tup in enumerate(B) if tup[1] % 2 == 1]\n",
    "    if len(odd_nums) % 2 == 1:\n",
    "        return 'NO'\n",
    "    else:\n",
    "        odd_index = [tup[0] for tup in odd_nums]\n",
    "        result = []\n",
    "        for i in range(0, len(odd_index), 2):\n",
    "            result.append((odd_index[i+1] - odd_index[i])*2)\n",
    "        return sum(result)"
   ]
  },
  {
   "cell_type": "code",
   "execution_count": null,
   "metadata": {
    "ExecuteTime": {
     "end_time": "2020-12-29T00:45:13.509110Z",
     "start_time": "2020-12-29T00:45:13.498139Z"
    }
   },
   "outputs": [],
   "source": [
    "def hackerrankInString(s):\n",
    "    s = list(s)\n",
    "    alphabets = list('hackerrank')\n",
    "    count = 0\n",
    "    for letter in alphabets:\n",
    "        if letter in s:\n",
    "            count += 1\n",
    "            del s[:s.index(letter)+1]\n",
    "    return 'YES' if count == 10 else 'NO'"
   ]
  },
  {
   "cell_type": "code",
   "execution_count": null,
   "metadata": {},
   "outputs": [],
   "source": [
    "def countingSort(arr):\n",
    "    return sorted(arr)"
   ]
  },
  {
   "cell_type": "code",
   "execution_count": null,
   "metadata": {
    "ExecuteTime": {
     "end_time": "2020-12-30T00:56:10.546105Z",
     "start_time": "2020-12-30T00:56:10.539629Z"
    }
   },
   "outputs": [],
   "source": [
    "def quickSort(arr):\n",
    "    equal = []\n",
    "    right = []\n",
    "    left = []\n",
    "    \n",
    "    pivot = arr[0]\n",
    "    equal.append(pivot)\n",
    "    \n",
    "    for num in arr[1:]:\n",
    "        if num == pivot:\n",
    "            equal.append(num)\n",
    "        elif num > pivot:\n",
    "            right.append(num)\n",
    "        else:\n",
    "            left.append(num)\n",
    "            \n",
    "    return left + equal + right"
   ]
  },
  {
   "cell_type": "code",
   "execution_count": null,
   "metadata": {
    "ExecuteTime": {
     "end_time": "2020-12-31T00:38:37.773392Z",
     "start_time": "2020-12-31T00:38:37.759384Z"
    }
   },
   "outputs": [],
   "source": [
    "from functools import reduce\n",
    "def gemstones(arr):\n",
    "    ls =  list(map(set, arr))\n",
    "    def inter(s1, s2):\n",
    "        return s1.intersection(s2)\n",
    "    return len(reduce(inter, ls))"
   ]
  },
  {
   "cell_type": "code",
   "execution_count": null,
   "metadata": {
    "ExecuteTime": {
     "end_time": "2020-12-31T11:09:28.529201Z",
     "start_time": "2020-12-31T11:09:28.523294Z"
    }
   },
   "outputs": [],
   "source": [
    "from itertools import combinations\n",
    "def maxProfit(prices):    \n",
    "    ls = [tup for tup in combinations(prices, 2) if tup[1] > tup[0]]\n",
    "    if not len(ls): \n",
    "        return 0\n",
    "    else:\n",
    "        result = max(ls, key = lambda tup: tup[1] - tup[0])\n",
    "        return result[1] - result[0]"
   ]
  },
  {
   "cell_type": "code",
   "execution_count": null,
   "metadata": {
    "ExecuteTime": {
     "end_time": "2020-12-31T23:34:52.039120Z",
     "start_time": "2020-12-31T23:34:52.023272Z"
    }
   },
   "outputs": [],
   "source": [
    "def maxProfit(prices):\n",
    "    try:\n",
    "        p = 0\n",
    "        minimum = prices[0]\n",
    "        for num in prices[1:]:\n",
    "            minimum = min(minimum, num)\n",
    "            p = max(num- minimum, p)\n",
    "        return p\n",
    "    except:\n",
    "        return 0"
   ]
  },
  {
   "cell_type": "code",
   "execution_count": null,
   "metadata": {
    "ExecuteTime": {
     "end_time": "2021-01-02T04:55:17.656128Z",
     "start_time": "2021-01-02T04:55:17.639175Z"
    }
   },
   "outputs": [],
   "source": [
    "# 80%대\n",
    "def taumBday(b, w, bc, wc, z):\n",
    "    if bc == wc:\n",
    "        return bc * b + wc * w\n",
    "    elif bc > wc:\n",
    "        if bc > wc + z:\n",
    "            return (wc+z)*b + wc * w\n",
    "        else:\n",
    "            return bc*b + wc*w\n",
    "    else:\n",
    "        if wc > bc + z:\n",
    "            return (bc+z)*w + bc *b\n",
    "        else:\n",
    "            return bc*b + wc* w"
   ]
  },
  {
   "cell_type": "code",
   "execution_count": 78,
   "metadata": {
    "ExecuteTime": {
     "end_time": "2021-01-03T02:02:03.384214Z",
     "start_time": "2021-01-03T02:02:03.375238Z"
    }
   },
   "outputs": [],
   "source": [
    "from itertools import combinations_with_replacement\n",
    "def stones(n, a, b):\n",
    "    arr = 0\n",
    "    pd = combinations_with_replacement([a,b], n-1)\n",
    "    return sorted(set([sum(tup) for tup in pd]))"
   ]
  },
  {
   "cell_type": "code",
   "execution_count": 2,
   "metadata": {
    "ExecuteTime": {
     "end_time": "2021-01-04T00:49:27.686605Z",
     "start_time": "2021-01-04T00:49:27.673734Z"
    }
   },
   "outputs": [],
   "source": [
    "def alternatingCharacters(s):\n",
    "    string = ''\n",
    "    count = 0\n",
    "    for letter in s:\n",
    "        if string == letter:\n",
    "            count += 1\n",
    "        else:\n",
    "            string = letter\n",
    "    return count"
   ]
  },
  {
   "cell_type": "code",
   "execution_count": 8,
   "metadata": {
    "ExecuteTime": {
     "end_time": "2021-01-04T01:15:06.571069Z",
     "start_time": "2021-01-04T01:15:06.556063Z"
    }
   },
   "outputs": [],
   "source": [
    "import re\n",
    "def pangrams(s):\n",
    "    s = s.lower().replace(' ', '')\n",
    "    if len(set(re.search('[a-z]+', s).group())) == 26:\n",
    "        return 'pangram'\n",
    "    else:\n",
    "        return 'not pangram'"
   ]
  },
  {
   "cell_type": "code",
   "execution_count": null,
   "metadata": {},
   "outputs": [],
   "source": [
    "def beautifulBinaryString(b):\n",
    "    return len(b.split('010'))-1"
   ]
  },
  {
   "cell_type": "code",
   "execution_count": 23,
   "metadata": {
    "ExecuteTime": {
     "end_time": "2021-01-06T00:53:50.225477Z",
     "start_time": "2021-01-06T00:53:50.210518Z"
    }
   },
   "outputs": [],
   "source": [
    "def maximumToys(prices, k):\n",
    "    ls = sorted(prices)\n",
    "    for i in range(len(prices)+1):\n",
    "        if k < sum(ls[:i]) :\n",
    "            break\n",
    "    return i-1"
   ]
  },
  {
   "cell_type": "code",
   "execution_count": 39,
   "metadata": {
    "ExecuteTime": {
     "end_time": "2021-01-07T00:35:59.456990Z",
     "start_time": "2021-01-07T00:35:59.451006Z"
    }
   },
   "outputs": [],
   "source": [
    "# 80%대\n",
    "def insertionSort1(n, arr):\n",
    "    last_value = arr[-1]\n",
    "    for i in range(2, len(arr)+1):\n",
    "        if arr[-i] < last_value:\n",
    "            ls = arr[:-i+1] + [last_value] + arr[-i+1:-1]\n",
    "            print(' '.join(map(str,ls)))\n",
    "            return\n",
    "        else:\n",
    "            ls = arr[:-i+1] + [arr[-i]] + arr[-i+1:-1]\n",
    "            print(' '.join(map(str,ls)))\n",
    "            \n",
    "            if i == len(arr):\n",
    "                ls = [last_value] + arr[-len(arr):-1]\n",
    "                print(' '.join(map(str,ls)))"
   ]
  },
  {
   "cell_type": "code",
   "execution_count": null,
   "metadata": {},
   "outputs": [],
   "source": [
    "#80%대\n",
    "def twoStrings(s1, s2):\n",
    "    if len(set(s1)) + len(set(s2)) > len(set(s1).union(set(s2))):\n",
    "        return 'YES'\n",
    "    else:\n",
    "        return 'NO'"
   ]
  },
  {
   "cell_type": "code",
   "execution_count": null,
   "metadata": {},
   "outputs": [],
   "source": [
    "# 체감상 80%대\n",
    "def stringConstruction(s):\n",
    "    result = ''\n",
    "    result += s[0]\n",
    "    \n",
    "    count = 1\n",
    "    for letter in s[1:]:\n",
    "        if letter in result:\n",
    "            result += letter\n",
    "        else:\n",
    "            result += letter\n",
    "            count += 1"
   ]
  },
  {
   "cell_type": "code",
   "execution_count": 54,
   "metadata": {
    "ExecuteTime": {
     "end_time": "2021-01-09T01:58:55.239378Z",
     "start_time": "2021-01-09T01:58:55.225358Z"
    }
   },
   "outputs": [],
   "source": [
    "# 80%대\n",
    "def toys(w):\n",
    "    count = 1\n",
    "    w = sorted(set(w))\n",
    "\n",
    "    i = 0\n",
    "    while True:\n",
    "        tmp = range(w[i], w[i]+5)\n",
    "        for weight in w[i:]:\n",
    "            if weight not in tmp:\n",
    "                print(weight)\n",
    "                count += 1\n",
    "                i = w.index(weight)\n",
    "                break\n",
    "        if w[-1] in tmp:\n",
    "            break\n",
    "\n",
    "    return count"
   ]
  },
  {
   "cell_type": "code",
   "execution_count": 2,
   "metadata": {
    "ExecuteTime": {
     "end_time": "2021-01-10T00:20:18.652877Z",
     "start_time": "2021-01-10T00:20:18.647885Z"
    }
   },
   "outputs": [],
   "source": [
    "def isAnagram(s: str, t: str) -> bool:\n",
    "    return sorted(s) == sorted(t)"
   ]
  },
  {
   "cell_type": "code",
   "execution_count": 4,
   "metadata": {
    "ExecuteTime": {
     "end_time": "2021-01-10T00:44:59.682462Z",
     "start_time": "2021-01-10T00:44:59.677300Z"
    }
   },
   "outputs": [],
   "source": [
    "def maxProfit(prices):\n",
    "    return sum(prices[i+1] - prices[i] for i in range(0, len(prices)-1) if prices[i] < prices[i+1])"
   ]
  },
  {
   "cell_type": "code",
   "execution_count": null,
   "metadata": {},
   "outputs": [],
   "source": []
  },
  {
   "cell_type": "code",
   "execution_count": null,
   "metadata": {},
   "outputs": [],
   "source": []
  },
  {
   "cell_type": "code",
   "execution_count": null,
   "metadata": {},
   "outputs": [],
   "source": []
  },
  {
   "cell_type": "code",
   "execution_count": null,
   "metadata": {},
   "outputs": [],
   "source": []
  },
  {
   "cell_type": "code",
   "execution_count": null,
   "metadata": {},
   "outputs": [],
   "source": []
  },
  {
   "cell_type": "code",
   "execution_count": null,
   "metadata": {},
   "outputs": [],
   "source": []
  }
 ],
 "metadata": {
  "hide_input": false,
  "kernelspec": {
   "display_name": "Python 3",
   "language": "python",
   "name": "python3"
  },
  "language_info": {
   "codemirror_mode": {
    "name": "ipython",
    "version": 3
   },
   "file_extension": ".py",
   "mimetype": "text/x-python",
   "name": "python",
   "nbconvert_exporter": "python",
   "pygments_lexer": "ipython3",
   "version": "3.8.5"
  },
  "toc": {
   "base_numbering": 1,
   "nav_menu": {},
   "number_sections": true,
   "sideBar": true,
   "skip_h1_title": false,
   "title_cell": "Table of Contents",
   "title_sidebar": "Contents",
   "toc_cell": false,
   "toc_position": {},
   "toc_section_display": true,
   "toc_window_display": false
  },
  "varInspector": {
   "cols": {
    "lenName": 16,
    "lenType": 16,
    "lenVar": 40
   },
   "kernels_config": {
    "python": {
     "delete_cmd_postfix": "",
     "delete_cmd_prefix": "del ",
     "library": "var_list.py",
     "varRefreshCmd": "print(var_dic_list())"
    },
    "r": {
     "delete_cmd_postfix": ") ",
     "delete_cmd_prefix": "rm(",
     "library": "var_list.r",
     "varRefreshCmd": "cat(var_dic_list()) "
    }
   },
   "types_to_exclude": [
    "module",
    "function",
    "builtin_function_or_method",
    "instance",
    "_Feature"
   ],
   "window_display": false
  }
 },
 "nbformat": 4,
 "nbformat_minor": 4
}
